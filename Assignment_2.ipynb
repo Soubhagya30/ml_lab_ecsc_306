{
 "cells": [
  {
   "cell_type": "code",
   "execution_count": 6,
   "metadata": {},
   "outputs": [
    {
     "name": "stdout",
     "output_type": "stream",
     "text": [
      "Array1 =  [ 1.5         2.29999995  3.0999999   4.0999999   5.30000019  6.4000001 ]\n",
      "Array2 =  [ 2.5         4.5         1.79999995  7.30000019  4.69999981  3.5       ]\n",
      "Mean1 =  3.7833331426\n",
      "Mean2 =  4.04999987284\n",
      "Variance =  2.85472243706\n",
      "Covariance =  4.985\n",
      "m =  1.74623\n",
      "c =  -2.55657\n"
     ]
    }
   ],
   "source": [
    "import tensorflow as tf\n",
    "import numpy as np\n",
    "\n",
    "a1 = np.array([1.5,2.3,3.1,4.1,5.3,6.4], dtype = np.float32)\n",
    "a2 = np.array([2.5,4.5,1.8,7.3,4.7,3.5], dtype = np.float32)\n",
    "\n",
    "print(\"Array1 = \",a1)\n",
    "print(\"Array2 = \",a2)\n",
    "\n",
    "mean1 = a1.sum() / a1.size\n",
    "print(\"Mean1 = \",mean1)\n",
    "mean2 = a2.sum() / a2.size\n",
    "print(\"Mean2 = \",mean2)\n",
    "\n",
    "var = 0\n",
    "for x in range(0, a1.size):\n",
    "    var = var + pow((a1[x]-mean1),2) / a1.size\n",
    "print(\"Variance = \",var)\n",
    "\n",
    "covar = 0\n",
    "for x in range(0,a1.size):\n",
    "    covar = covar + tf.multiply(tf.subtract(a1[x],mean1), tf.subtract(a2[x],mean2)) \n",
    "#print(\"Covariance = \",covar)\n",
    "    \n",
    "m = covar / var\n",
    "c = mean2 - m * mean1\n",
    "\n",
    "with tf.Session() as sess:\n",
    "    print(\"Covariance = \",sess.run(covar))\n",
    "    print(\"m = \",sess.run(m))\n",
    "    print(\"c = \",sess.run(c))"
   ]
  },
  {
   "cell_type": "code",
   "execution_count": null,
   "metadata": {
    "collapsed": true
   },
   "outputs": [],
   "source": []
  }
 ],
 "metadata": {
  "kernelspec": {
   "display_name": "Python 3",
   "language": "python",
   "name": "python3"
  },
  "language_info": {
   "codemirror_mode": {
    "name": "ipython",
    "version": 3
   },
   "file_extension": ".py",
   "mimetype": "text/x-python",
   "name": "python",
   "nbconvert_exporter": "python",
   "pygments_lexer": "ipython3",
   "version": "3.6.1"
  }
 },
 "nbformat": 4,
 "nbformat_minor": 2
}
