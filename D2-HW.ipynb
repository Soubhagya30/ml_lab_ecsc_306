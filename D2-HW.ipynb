{
 "cells": [
  {
   "cell_type": "code",
   "execution_count": null,
   "metadata": {},
   "outputs": [],
   "source": [
    "import tensorflow as tf\n",
    "a = int(input(\"enter a : \"));\n",
    "b = int(input(\"enter b : \"));\n",
    "c = tf.pow(a,2)\n",
    "d = tf.pow(b,2)\n",
    "e = tf.add(tf.pow(a,2),tf.pow(b,2))\n",
    "g = tf.multiply(tf.multiply(2,a),b)\n",
    "h = tf.subtract(e,g)\n",
    "\n",
    "with tf.Session() as sess:\n",
    "    writer = tf.summary.FileWriter(\"/tmp/tboard/outputa\",sess.graph)\n",
    "    print(sess.run(h))\n",
    "    writer.close()"
   ]
  },
  {
   "cell_type": "code",
   "execution_count": 16,
   "metadata": {},
   "outputs": [
    {
     "name": "stdout",
     "output_type": "stream",
     "text": [
      "Enter a : 3\n",
      "Enter b : 4\n",
      "Enter c : 3\n",
      "16\n"
     ]
    }
   ],
   "source": [
    "import tensorflow as tf\n",
    "a = int(input(\"Enter a : \"));\n",
    "b = int(input(\"Enter b : \"));\n",
    "c = int(input(\"Enter c : \"));\n",
    "d = tf.pow(a,2)\n",
    "e = tf.pow(b,2)\n",
    "f = tf.pow(c,2)\n",
    "g = tf.add(tf.add(d,e),f)\n",
    "h = tf.multiply(tf.multiply(2,a),b)\n",
    "i = tf.multiply(tf.multiply(2,c),b)\n",
    "j = tf.multiply(tf.multiply(2,a),c)\n",
    "k = tf.add(g,h)\n",
    "l = tf.add(i,j)\n",
    "m = tf.subtract(k,l)\n",
    "\n",
    "with tf.Session() as sess:\n",
    "    writer = tf.summary.FileWriter(\"/tmp/tboard/outputab2\",sess.graph)\n",
    "    print(sess.run(m))\n",
    "    writer.close()\n"
   ]
  },
  {
   "cell_type": "code",
   "execution_count": null,
   "metadata": {
    "collapsed": true
   },
   "outputs": [],
   "source": [
    "tensorboard --logdir=/tmp/tboard/outputab2"
   ]
  }
 ],
 "metadata": {
  "kernelspec": {
   "display_name": "Python 3",
   "language": "python",
   "name": "python3"
  },
  "language_info": {
   "codemirror_mode": {
    "name": "ipython",
    "version": 3
   },
   "file_extension": ".py",
   "mimetype": "text/x-python",
   "name": "python",
   "nbconvert_exporter": "python",
   "pygments_lexer": "ipython3",
   "version": "3.6.1"
  }
 },
 "nbformat": 4,
 "nbformat_minor": 2
}
