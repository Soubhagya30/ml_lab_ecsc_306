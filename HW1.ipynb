{
 "cells": [
  {
   "cell_type": "code",
   "execution_count": null,
   "metadata": {},
   "outputs": [],
   "source": [
    "import tensorflow as tf\n",
    "with tf.name_scope(\"S_1\"):\n",
    "    with tf.name_scope(\"S_4\"):\n",
    "        with tf.name_scope(\"S_2\"):\n",
    "            a = 9\n",
    "            c = tf.pow(a,2)\n",
    "        \n",
    "        with tf.name_scope(\"S_3\"):\n",
    "            b = 5\n",
    "            d = tf.pow(b,2)  \n",
    "        \n",
    "    \n",
    "        \n",
    "        e = tf.add(c,d)\n",
    "        \n",
    "    with tf.name_scope(\"S_5\"):\n",
    "        f = tf.multiply(tf.multiply(2,a),b)\n",
    "        \n",
    "    with tf.name_scope(\"S_6\"):\n",
    "        g = tf.subtract(e,f)\n",
    "    \n",
    "    with tf.Session() as sess:\n",
    "        writer = tf.summary.FileWriter(\"/tmp/tboard/output_a1\", sess.graph)\n",
    "        print(sess.run(g))\n",
    "        writer.close()\n",
    "        "
   ]
  },
  {
   "cell_type": "code",
   "execution_count": 1,
   "metadata": {},
   "outputs": [
    {
     "name": "stdout",
     "output_type": "stream",
     "text": [
      "36\n"
     ]
    }
   ],
   "source": [
    "import tensorflow as tf\n",
    "with tf.name_scope(\"S_1\"):\n",
    "    with tf.name_scope(\"S_5\"):\n",
    "        with tf.name_scope(\"S_2\"):\n",
    "            a = 3\n",
    "            d = tf.pow(a,2)\n",
    "        \n",
    "        with tf.name_scope(\"S_3\"):\n",
    "            b = 5\n",
    "            e = tf.pow(b,2)  \n",
    "            \n",
    "        with tf.name_scope(\"S_4\"):\n",
    "            c = 2\n",
    "            f = tf.pow(c,2)   \n",
    "            \n",
    "        e = tf.add(tf.add(d,e),f)\n",
    "    \n",
    "    with tf.name_scope(\"S_9\"):\n",
    "        with tf.name_scope(\"S_6\"):\n",
    "            f = tf.multiply(tf.multiply(2,a),b)\n",
    "        \n",
    "        with tf.name_scope(\"S_7\"):\n",
    "            g = tf.multiply(tf.multiply(2,b),c) \n",
    "        \n",
    "        with tf.name_scope(\"S_8\"):\n",
    "            h = tf.multiply(tf.multiply(2,c),a) \n",
    "        \n",
    "        i = tf.subtract(tf.subtract(f,g),h)\n",
    "        \n",
    "    j = tf.add(e,i)   \n",
    "\n",
    "    with tf.Session() as sess:\n",
    "        writer = tf.summary.FileWriter(\"/tmp/tboard/output_a12\", sess.graph)\n",
    "        print(sess.run(j))\n",
    "        writer.close()"
   ]
  },
  {
   "cell_type": "code",
   "execution_count": null,
   "metadata": {
    "collapsed": true
   },
   "outputs": [],
   "source": []
  }
 ],
 "metadata": {
  "kernelspec": {
   "display_name": "Python 3",
   "language": "python",
   "name": "python3"
  },
  "language_info": {
   "codemirror_mode": {
    "name": "ipython",
    "version": 3
   },
   "file_extension": ".py",
   "mimetype": "text/x-python",
   "name": "python",
   "nbconvert_exporter": "python",
   "pygments_lexer": "ipython3",
   "version": "3.6.1"
  }
 },
 "nbformat": 4,
 "nbformat_minor": 2
}
